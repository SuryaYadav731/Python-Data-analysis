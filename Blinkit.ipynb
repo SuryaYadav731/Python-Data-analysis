{
 "cells": [
  {
   "cell_type": "markdown",
   "id": "f223d134-a333-4e0a-badc-06e5b29f04fe",
   "metadata": {},
   "source": [
    "## **Data Analysis Python Project - Blinkit Analysis May 2025**\n",
    "\n"
   ]
  },
  {
   "cell_type": "markdown",
   "id": "27917a6f-dd65-4940-bd60-e2eff0bbce20",
   "metadata": {},
   "source": [
    "### **import Library**"
   ]
  },
  {
   "cell_type": "code",
   "execution_count": 4,
   "id": "6bdf00ff-8e1e-46b3-94a8-88cf43493e63",
   "metadata": {},
   "outputs": [],
   "source": [
    "import numpy as np\n",
    "import pandas as pd\n",
    "import matplotlib.pyplot as plt\n",
    "import seaborn as sns"
   ]
  },
  {
   "cell_type": "markdown",
   "id": "b7df0bd3-a113-48fb-971c-0cf7591c995b",
   "metadata": {},
   "source": [
    "### **import raw data**"
   ]
  },
  {
   "cell_type": "code",
   "execution_count": 5,
   "id": "c0d7bb29-d66a-4c1f-8eda-1e4491db78dc",
   "metadata": {},
   "outputs": [
    {
     "data": {
      "text/html": [
       "<div>\n",
       "<style scoped>\n",
       "    .dataframe tbody tr th:only-of-type {\n",
       "        vertical-align: middle;\n",
       "    }\n",
       "\n",
       "    .dataframe tbody tr th {\n",
       "        vertical-align: top;\n",
       "    }\n",
       "\n",
       "    .dataframe thead th {\n",
       "        text-align: right;\n",
       "    }\n",
       "</style>\n",
       "<table border=\"1\" class=\"dataframe\">\n",
       "  <thead>\n",
       "    <tr style=\"text-align: right;\">\n",
       "      <th></th>\n",
       "      <th>Item Fat Content</th>\n",
       "      <th>Item Identifier</th>\n",
       "      <th>Item Type</th>\n",
       "      <th>Outlet Establishment Year</th>\n",
       "      <th>Outlet Identifier</th>\n",
       "      <th>Outlet Location Type</th>\n",
       "      <th>Outlet Size</th>\n",
       "      <th>Outlet Type</th>\n",
       "      <th>Item Visibility</th>\n",
       "      <th>Item Weight</th>\n",
       "      <th>Sales</th>\n",
       "      <th>Rating</th>\n",
       "    </tr>\n",
       "  </thead>\n",
       "  <tbody>\n",
       "    <tr>\n",
       "      <th>0</th>\n",
       "      <td>Regular</td>\n",
       "      <td>FDX32</td>\n",
       "      <td>Fruits and Vegetables</td>\n",
       "      <td>2012</td>\n",
       "      <td>OUT049</td>\n",
       "      <td>Tier 1</td>\n",
       "      <td>Medium</td>\n",
       "      <td>Supermarket Type1</td>\n",
       "      <td>0.100014</td>\n",
       "      <td>15.10</td>\n",
       "      <td>145.4786</td>\n",
       "      <td>5.0</td>\n",
       "    </tr>\n",
       "    <tr>\n",
       "      <th>1</th>\n",
       "      <td>Low Fat</td>\n",
       "      <td>NCB42</td>\n",
       "      <td>Health and Hygiene</td>\n",
       "      <td>2022</td>\n",
       "      <td>OUT018</td>\n",
       "      <td>Tier 3</td>\n",
       "      <td>Medium</td>\n",
       "      <td>Supermarket Type2</td>\n",
       "      <td>0.008596</td>\n",
       "      <td>11.80</td>\n",
       "      <td>115.3492</td>\n",
       "      <td>5.0</td>\n",
       "    </tr>\n",
       "    <tr>\n",
       "      <th>2</th>\n",
       "      <td>Regular</td>\n",
       "      <td>FDR28</td>\n",
       "      <td>Frozen Foods</td>\n",
       "      <td>2010</td>\n",
       "      <td>OUT046</td>\n",
       "      <td>Tier 1</td>\n",
       "      <td>Small</td>\n",
       "      <td>Supermarket Type1</td>\n",
       "      <td>0.025896</td>\n",
       "      <td>13.85</td>\n",
       "      <td>165.0210</td>\n",
       "      <td>5.0</td>\n",
       "    </tr>\n",
       "    <tr>\n",
       "      <th>3</th>\n",
       "      <td>Regular</td>\n",
       "      <td>FDL50</td>\n",
       "      <td>Canned</td>\n",
       "      <td>2000</td>\n",
       "      <td>OUT013</td>\n",
       "      <td>Tier 3</td>\n",
       "      <td>High</td>\n",
       "      <td>Supermarket Type1</td>\n",
       "      <td>0.042278</td>\n",
       "      <td>12.15</td>\n",
       "      <td>126.5046</td>\n",
       "      <td>5.0</td>\n",
       "    </tr>\n",
       "    <tr>\n",
       "      <th>4</th>\n",
       "      <td>Low Fat</td>\n",
       "      <td>DRI25</td>\n",
       "      <td>Soft Drinks</td>\n",
       "      <td>2015</td>\n",
       "      <td>OUT045</td>\n",
       "      <td>Tier 2</td>\n",
       "      <td>Small</td>\n",
       "      <td>Supermarket Type1</td>\n",
       "      <td>0.033970</td>\n",
       "      <td>19.60</td>\n",
       "      <td>55.1614</td>\n",
       "      <td>5.0</td>\n",
       "    </tr>\n",
       "    <tr>\n",
       "      <th>...</th>\n",
       "      <td>...</td>\n",
       "      <td>...</td>\n",
       "      <td>...</td>\n",
       "      <td>...</td>\n",
       "      <td>...</td>\n",
       "      <td>...</td>\n",
       "      <td>...</td>\n",
       "      <td>...</td>\n",
       "      <td>...</td>\n",
       "      <td>...</td>\n",
       "      <td>...</td>\n",
       "      <td>...</td>\n",
       "    </tr>\n",
       "    <tr>\n",
       "      <th>8518</th>\n",
       "      <td>low fat</td>\n",
       "      <td>NCT53</td>\n",
       "      <td>Health and Hygiene</td>\n",
       "      <td>1998</td>\n",
       "      <td>OUT027</td>\n",
       "      <td>Tier 3</td>\n",
       "      <td>Medium</td>\n",
       "      <td>Supermarket Type3</td>\n",
       "      <td>0.000000</td>\n",
       "      <td>NaN</td>\n",
       "      <td>164.5526</td>\n",
       "      <td>4.0</td>\n",
       "    </tr>\n",
       "    <tr>\n",
       "      <th>8519</th>\n",
       "      <td>low fat</td>\n",
       "      <td>FDN09</td>\n",
       "      <td>Snack Foods</td>\n",
       "      <td>1998</td>\n",
       "      <td>OUT027</td>\n",
       "      <td>Tier 3</td>\n",
       "      <td>Medium</td>\n",
       "      <td>Supermarket Type3</td>\n",
       "      <td>0.034706</td>\n",
       "      <td>NaN</td>\n",
       "      <td>241.6828</td>\n",
       "      <td>4.0</td>\n",
       "    </tr>\n",
       "    <tr>\n",
       "      <th>8520</th>\n",
       "      <td>low fat</td>\n",
       "      <td>DRE13</td>\n",
       "      <td>Soft Drinks</td>\n",
       "      <td>1998</td>\n",
       "      <td>OUT027</td>\n",
       "      <td>Tier 3</td>\n",
       "      <td>Medium</td>\n",
       "      <td>Supermarket Type3</td>\n",
       "      <td>0.027571</td>\n",
       "      <td>NaN</td>\n",
       "      <td>86.6198</td>\n",
       "      <td>4.0</td>\n",
       "    </tr>\n",
       "    <tr>\n",
       "      <th>8521</th>\n",
       "      <td>reg</td>\n",
       "      <td>FDT50</td>\n",
       "      <td>Dairy</td>\n",
       "      <td>1998</td>\n",
       "      <td>OUT027</td>\n",
       "      <td>Tier 3</td>\n",
       "      <td>Medium</td>\n",
       "      <td>Supermarket Type3</td>\n",
       "      <td>0.107715</td>\n",
       "      <td>NaN</td>\n",
       "      <td>97.8752</td>\n",
       "      <td>4.0</td>\n",
       "    </tr>\n",
       "    <tr>\n",
       "      <th>8522</th>\n",
       "      <td>reg</td>\n",
       "      <td>FDM58</td>\n",
       "      <td>Snack Foods</td>\n",
       "      <td>1998</td>\n",
       "      <td>OUT027</td>\n",
       "      <td>Tier 3</td>\n",
       "      <td>Medium</td>\n",
       "      <td>Supermarket Type3</td>\n",
       "      <td>0.000000</td>\n",
       "      <td>NaN</td>\n",
       "      <td>112.2544</td>\n",
       "      <td>4.0</td>\n",
       "    </tr>\n",
       "  </tbody>\n",
       "</table>\n",
       "<p>8523 rows × 12 columns</p>\n",
       "</div>"
      ],
      "text/plain": [
       "     Item Fat Content Item Identifier              Item Type  \\\n",
       "0             Regular           FDX32  Fruits and Vegetables   \n",
       "1             Low Fat           NCB42     Health and Hygiene   \n",
       "2             Regular           FDR28           Frozen Foods   \n",
       "3             Regular           FDL50                 Canned   \n",
       "4             Low Fat           DRI25            Soft Drinks   \n",
       "...               ...             ...                    ...   \n",
       "8518          low fat           NCT53     Health and Hygiene   \n",
       "8519          low fat           FDN09            Snack Foods   \n",
       "8520          low fat           DRE13            Soft Drinks   \n",
       "8521              reg           FDT50                  Dairy   \n",
       "8522              reg           FDM58            Snack Foods   \n",
       "\n",
       "      Outlet Establishment Year Outlet Identifier Outlet Location Type  \\\n",
       "0                          2012            OUT049               Tier 1   \n",
       "1                          2022            OUT018               Tier 3   \n",
       "2                          2010            OUT046               Tier 1   \n",
       "3                          2000            OUT013               Tier 3   \n",
       "4                          2015            OUT045               Tier 2   \n",
       "...                         ...               ...                  ...   \n",
       "8518                       1998            OUT027               Tier 3   \n",
       "8519                       1998            OUT027               Tier 3   \n",
       "8520                       1998            OUT027               Tier 3   \n",
       "8521                       1998            OUT027               Tier 3   \n",
       "8522                       1998            OUT027               Tier 3   \n",
       "\n",
       "     Outlet Size        Outlet Type  Item Visibility  Item Weight     Sales  \\\n",
       "0         Medium  Supermarket Type1         0.100014        15.10  145.4786   \n",
       "1         Medium  Supermarket Type2         0.008596        11.80  115.3492   \n",
       "2          Small  Supermarket Type1         0.025896        13.85  165.0210   \n",
       "3           High  Supermarket Type1         0.042278        12.15  126.5046   \n",
       "4          Small  Supermarket Type1         0.033970        19.60   55.1614   \n",
       "...          ...                ...              ...          ...       ...   \n",
       "8518      Medium  Supermarket Type3         0.000000          NaN  164.5526   \n",
       "8519      Medium  Supermarket Type3         0.034706          NaN  241.6828   \n",
       "8520      Medium  Supermarket Type3         0.027571          NaN   86.6198   \n",
       "8521      Medium  Supermarket Type3         0.107715          NaN   97.8752   \n",
       "8522      Medium  Supermarket Type3         0.000000          NaN  112.2544   \n",
       "\n",
       "      Rating  \n",
       "0        5.0  \n",
       "1        5.0  \n",
       "2        5.0  \n",
       "3        5.0  \n",
       "4        5.0  \n",
       "...      ...  \n",
       "8518     4.0  \n",
       "8519     4.0  \n",
       "8520     4.0  \n",
       "8521     4.0  \n",
       "8522     4.0  \n",
       "\n",
       "[8523 rows x 12 columns]"
      ]
     },
     "execution_count": 5,
     "metadata": {},
     "output_type": "execute_result"
    }
   ],
   "source": [
    "df = pd.read_csv(\"C:\\\\Users\\\\HI\\\\Desktop\\\\Python Project\\\\Blinkit\\\\blinkit_data.csv\")\n",
    "df"
   ]
  },
  {
   "cell_type": "markdown",
   "id": "a48fb661-fd8b-45ce-ae2b-bdcc969a1ecb",
   "metadata": {},
   "source": [
    "### **Top 10**"
   ]
  },
  {
   "cell_type": "code",
   "execution_count": 6,
   "id": "49de2259-0bfd-4af3-9995-4902f32758e7",
   "metadata": {},
   "outputs": [
    {
     "data": {
      "text/html": [
       "<div>\n",
       "<style scoped>\n",
       "    .dataframe tbody tr th:only-of-type {\n",
       "        vertical-align: middle;\n",
       "    }\n",
       "\n",
       "    .dataframe tbody tr th {\n",
       "        vertical-align: top;\n",
       "    }\n",
       "\n",
       "    .dataframe thead th {\n",
       "        text-align: right;\n",
       "    }\n",
       "</style>\n",
       "<table border=\"1\" class=\"dataframe\">\n",
       "  <thead>\n",
       "    <tr style=\"text-align: right;\">\n",
       "      <th></th>\n",
       "      <th>Item Fat Content</th>\n",
       "      <th>Item Identifier</th>\n",
       "      <th>Item Type</th>\n",
       "      <th>Outlet Establishment Year</th>\n",
       "      <th>Outlet Identifier</th>\n",
       "      <th>Outlet Location Type</th>\n",
       "      <th>Outlet Size</th>\n",
       "      <th>Outlet Type</th>\n",
       "      <th>Item Visibility</th>\n",
       "      <th>Item Weight</th>\n",
       "      <th>Sales</th>\n",
       "      <th>Rating</th>\n",
       "    </tr>\n",
       "  </thead>\n",
       "  <tbody>\n",
       "    <tr>\n",
       "      <th>0</th>\n",
       "      <td>Regular</td>\n",
       "      <td>FDX32</td>\n",
       "      <td>Fruits and Vegetables</td>\n",
       "      <td>2012</td>\n",
       "      <td>OUT049</td>\n",
       "      <td>Tier 1</td>\n",
       "      <td>Medium</td>\n",
       "      <td>Supermarket Type1</td>\n",
       "      <td>0.100014</td>\n",
       "      <td>15.10</td>\n",
       "      <td>145.4786</td>\n",
       "      <td>5.0</td>\n",
       "    </tr>\n",
       "    <tr>\n",
       "      <th>1</th>\n",
       "      <td>Low Fat</td>\n",
       "      <td>NCB42</td>\n",
       "      <td>Health and Hygiene</td>\n",
       "      <td>2022</td>\n",
       "      <td>OUT018</td>\n",
       "      <td>Tier 3</td>\n",
       "      <td>Medium</td>\n",
       "      <td>Supermarket Type2</td>\n",
       "      <td>0.008596</td>\n",
       "      <td>11.80</td>\n",
       "      <td>115.3492</td>\n",
       "      <td>5.0</td>\n",
       "    </tr>\n",
       "    <tr>\n",
       "      <th>2</th>\n",
       "      <td>Regular</td>\n",
       "      <td>FDR28</td>\n",
       "      <td>Frozen Foods</td>\n",
       "      <td>2010</td>\n",
       "      <td>OUT046</td>\n",
       "      <td>Tier 1</td>\n",
       "      <td>Small</td>\n",
       "      <td>Supermarket Type1</td>\n",
       "      <td>0.025896</td>\n",
       "      <td>13.85</td>\n",
       "      <td>165.0210</td>\n",
       "      <td>5.0</td>\n",
       "    </tr>\n",
       "    <tr>\n",
       "      <th>3</th>\n",
       "      <td>Regular</td>\n",
       "      <td>FDL50</td>\n",
       "      <td>Canned</td>\n",
       "      <td>2000</td>\n",
       "      <td>OUT013</td>\n",
       "      <td>Tier 3</td>\n",
       "      <td>High</td>\n",
       "      <td>Supermarket Type1</td>\n",
       "      <td>0.042278</td>\n",
       "      <td>12.15</td>\n",
       "      <td>126.5046</td>\n",
       "      <td>5.0</td>\n",
       "    </tr>\n",
       "    <tr>\n",
       "      <th>4</th>\n",
       "      <td>Low Fat</td>\n",
       "      <td>DRI25</td>\n",
       "      <td>Soft Drinks</td>\n",
       "      <td>2015</td>\n",
       "      <td>OUT045</td>\n",
       "      <td>Tier 2</td>\n",
       "      <td>Small</td>\n",
       "      <td>Supermarket Type1</td>\n",
       "      <td>0.033970</td>\n",
       "      <td>19.60</td>\n",
       "      <td>55.1614</td>\n",
       "      <td>5.0</td>\n",
       "    </tr>\n",
       "    <tr>\n",
       "      <th>5</th>\n",
       "      <td>low fat</td>\n",
       "      <td>FDS52</td>\n",
       "      <td>Frozen Foods</td>\n",
       "      <td>2020</td>\n",
       "      <td>OUT017</td>\n",
       "      <td>Tier 2</td>\n",
       "      <td>Small</td>\n",
       "      <td>Supermarket Type1</td>\n",
       "      <td>0.005505</td>\n",
       "      <td>8.89</td>\n",
       "      <td>102.4016</td>\n",
       "      <td>5.0</td>\n",
       "    </tr>\n",
       "    <tr>\n",
       "      <th>6</th>\n",
       "      <td>Low Fat</td>\n",
       "      <td>NCU05</td>\n",
       "      <td>Health and Hygiene</td>\n",
       "      <td>2011</td>\n",
       "      <td>OUT010</td>\n",
       "      <td>Tier 3</td>\n",
       "      <td>Small</td>\n",
       "      <td>Grocery Store</td>\n",
       "      <td>0.098312</td>\n",
       "      <td>11.80</td>\n",
       "      <td>81.4618</td>\n",
       "      <td>5.0</td>\n",
       "    </tr>\n",
       "    <tr>\n",
       "      <th>7</th>\n",
       "      <td>Low Fat</td>\n",
       "      <td>NCD30</td>\n",
       "      <td>Household</td>\n",
       "      <td>2015</td>\n",
       "      <td>OUT045</td>\n",
       "      <td>Tier 2</td>\n",
       "      <td>Small</td>\n",
       "      <td>Supermarket Type1</td>\n",
       "      <td>0.026904</td>\n",
       "      <td>19.70</td>\n",
       "      <td>96.0726</td>\n",
       "      <td>5.0</td>\n",
       "    </tr>\n",
       "    <tr>\n",
       "      <th>8</th>\n",
       "      <td>Low Fat</td>\n",
       "      <td>FDW20</td>\n",
       "      <td>Fruits and Vegetables</td>\n",
       "      <td>2000</td>\n",
       "      <td>OUT013</td>\n",
       "      <td>Tier 3</td>\n",
       "      <td>High</td>\n",
       "      <td>Supermarket Type1</td>\n",
       "      <td>0.024129</td>\n",
       "      <td>20.75</td>\n",
       "      <td>124.1730</td>\n",
       "      <td>5.0</td>\n",
       "    </tr>\n",
       "    <tr>\n",
       "      <th>9</th>\n",
       "      <td>Low Fat</td>\n",
       "      <td>FDX25</td>\n",
       "      <td>Canned</td>\n",
       "      <td>1998</td>\n",
       "      <td>OUT027</td>\n",
       "      <td>Tier 3</td>\n",
       "      <td>Medium</td>\n",
       "      <td>Supermarket Type3</td>\n",
       "      <td>0.101562</td>\n",
       "      <td>NaN</td>\n",
       "      <td>181.9292</td>\n",
       "      <td>5.0</td>\n",
       "    </tr>\n",
       "  </tbody>\n",
       "</table>\n",
       "</div>"
      ],
      "text/plain": [
       "  Item Fat Content Item Identifier              Item Type  \\\n",
       "0          Regular           FDX32  Fruits and Vegetables   \n",
       "1          Low Fat           NCB42     Health and Hygiene   \n",
       "2          Regular           FDR28           Frozen Foods   \n",
       "3          Regular           FDL50                 Canned   \n",
       "4          Low Fat           DRI25            Soft Drinks   \n",
       "5          low fat           FDS52           Frozen Foods   \n",
       "6          Low Fat           NCU05     Health and Hygiene   \n",
       "7          Low Fat           NCD30              Household   \n",
       "8          Low Fat           FDW20  Fruits and Vegetables   \n",
       "9          Low Fat           FDX25                 Canned   \n",
       "\n",
       "   Outlet Establishment Year Outlet Identifier Outlet Location Type  \\\n",
       "0                       2012            OUT049               Tier 1   \n",
       "1                       2022            OUT018               Tier 3   \n",
       "2                       2010            OUT046               Tier 1   \n",
       "3                       2000            OUT013               Tier 3   \n",
       "4                       2015            OUT045               Tier 2   \n",
       "5                       2020            OUT017               Tier 2   \n",
       "6                       2011            OUT010               Tier 3   \n",
       "7                       2015            OUT045               Tier 2   \n",
       "8                       2000            OUT013               Tier 3   \n",
       "9                       1998            OUT027               Tier 3   \n",
       "\n",
       "  Outlet Size        Outlet Type  Item Visibility  Item Weight     Sales  \\\n",
       "0      Medium  Supermarket Type1         0.100014        15.10  145.4786   \n",
       "1      Medium  Supermarket Type2         0.008596        11.80  115.3492   \n",
       "2       Small  Supermarket Type1         0.025896        13.85  165.0210   \n",
       "3        High  Supermarket Type1         0.042278        12.15  126.5046   \n",
       "4       Small  Supermarket Type1         0.033970        19.60   55.1614   \n",
       "5       Small  Supermarket Type1         0.005505         8.89  102.4016   \n",
       "6       Small      Grocery Store         0.098312        11.80   81.4618   \n",
       "7       Small  Supermarket Type1         0.026904        19.70   96.0726   \n",
       "8        High  Supermarket Type1         0.024129        20.75  124.1730   \n",
       "9      Medium  Supermarket Type3         0.101562          NaN  181.9292   \n",
       "\n",
       "   Rating  \n",
       "0     5.0  \n",
       "1     5.0  \n",
       "2     5.0  \n",
       "3     5.0  \n",
       "4     5.0  \n",
       "5     5.0  \n",
       "6     5.0  \n",
       "7     5.0  \n",
       "8     5.0  \n",
       "9     5.0  "
      ]
     },
     "execution_count": 6,
     "metadata": {},
     "output_type": "execute_result"
    }
   ],
   "source": [
    "df.head(10)\n"
   ]
  },
  {
   "cell_type": "markdown",
   "id": "e3c3e891-5e44-4829-ad4d-fc3e2a773235",
   "metadata": {},
   "source": [
    "### **Last 10**"
   ]
  },
  {
   "cell_type": "code",
   "execution_count": 7,
   "id": "a70e70d1-abd2-40f7-962d-3931ba5760d0",
   "metadata": {},
   "outputs": [
    {
     "data": {
      "text/html": [
       "<div>\n",
       "<style scoped>\n",
       "    .dataframe tbody tr th:only-of-type {\n",
       "        vertical-align: middle;\n",
       "    }\n",
       "\n",
       "    .dataframe tbody tr th {\n",
       "        vertical-align: top;\n",
       "    }\n",
       "\n",
       "    .dataframe thead th {\n",
       "        text-align: right;\n",
       "    }\n",
       "</style>\n",
       "<table border=\"1\" class=\"dataframe\">\n",
       "  <thead>\n",
       "    <tr style=\"text-align: right;\">\n",
       "      <th></th>\n",
       "      <th>Item Fat Content</th>\n",
       "      <th>Item Identifier</th>\n",
       "      <th>Item Type</th>\n",
       "      <th>Outlet Establishment Year</th>\n",
       "      <th>Outlet Identifier</th>\n",
       "      <th>Outlet Location Type</th>\n",
       "      <th>Outlet Size</th>\n",
       "      <th>Outlet Type</th>\n",
       "      <th>Item Visibility</th>\n",
       "      <th>Item Weight</th>\n",
       "      <th>Sales</th>\n",
       "      <th>Rating</th>\n",
       "    </tr>\n",
       "  </thead>\n",
       "  <tbody>\n",
       "    <tr>\n",
       "      <th>8513</th>\n",
       "      <td>Regular</td>\n",
       "      <td>DRY23</td>\n",
       "      <td>Soft Drinks</td>\n",
       "      <td>1998</td>\n",
       "      <td>OUT027</td>\n",
       "      <td>Tier 3</td>\n",
       "      <td>Medium</td>\n",
       "      <td>Supermarket Type3</td>\n",
       "      <td>0.108568</td>\n",
       "      <td>NaN</td>\n",
       "      <td>42.9112</td>\n",
       "      <td>4.0</td>\n",
       "    </tr>\n",
       "    <tr>\n",
       "      <th>8514</th>\n",
       "      <td>low fat</td>\n",
       "      <td>FDA11</td>\n",
       "      <td>Baking Goods</td>\n",
       "      <td>1998</td>\n",
       "      <td>OUT027</td>\n",
       "      <td>Tier 3</td>\n",
       "      <td>Medium</td>\n",
       "      <td>Supermarket Type3</td>\n",
       "      <td>0.043029</td>\n",
       "      <td>NaN</td>\n",
       "      <td>94.7436</td>\n",
       "      <td>4.0</td>\n",
       "    </tr>\n",
       "    <tr>\n",
       "      <th>8515</th>\n",
       "      <td>low fat</td>\n",
       "      <td>FDK38</td>\n",
       "      <td>Canned</td>\n",
       "      <td>1998</td>\n",
       "      <td>OUT027</td>\n",
       "      <td>Tier 3</td>\n",
       "      <td>Medium</td>\n",
       "      <td>Supermarket Type3</td>\n",
       "      <td>0.053032</td>\n",
       "      <td>NaN</td>\n",
       "      <td>149.1734</td>\n",
       "      <td>4.0</td>\n",
       "    </tr>\n",
       "    <tr>\n",
       "      <th>8516</th>\n",
       "      <td>low fat</td>\n",
       "      <td>FDO38</td>\n",
       "      <td>Canned</td>\n",
       "      <td>1998</td>\n",
       "      <td>OUT027</td>\n",
       "      <td>Tier 3</td>\n",
       "      <td>Medium</td>\n",
       "      <td>Supermarket Type3</td>\n",
       "      <td>0.072486</td>\n",
       "      <td>NaN</td>\n",
       "      <td>78.9986</td>\n",
       "      <td>4.0</td>\n",
       "    </tr>\n",
       "    <tr>\n",
       "      <th>8517</th>\n",
       "      <td>low fat</td>\n",
       "      <td>FDG32</td>\n",
       "      <td>Fruits and Vegetables</td>\n",
       "      <td>1998</td>\n",
       "      <td>OUT027</td>\n",
       "      <td>Tier 3</td>\n",
       "      <td>Medium</td>\n",
       "      <td>Supermarket Type3</td>\n",
       "      <td>0.175143</td>\n",
       "      <td>NaN</td>\n",
       "      <td>222.3772</td>\n",
       "      <td>4.0</td>\n",
       "    </tr>\n",
       "    <tr>\n",
       "      <th>8518</th>\n",
       "      <td>low fat</td>\n",
       "      <td>NCT53</td>\n",
       "      <td>Health and Hygiene</td>\n",
       "      <td>1998</td>\n",
       "      <td>OUT027</td>\n",
       "      <td>Tier 3</td>\n",
       "      <td>Medium</td>\n",
       "      <td>Supermarket Type3</td>\n",
       "      <td>0.000000</td>\n",
       "      <td>NaN</td>\n",
       "      <td>164.5526</td>\n",
       "      <td>4.0</td>\n",
       "    </tr>\n",
       "    <tr>\n",
       "      <th>8519</th>\n",
       "      <td>low fat</td>\n",
       "      <td>FDN09</td>\n",
       "      <td>Snack Foods</td>\n",
       "      <td>1998</td>\n",
       "      <td>OUT027</td>\n",
       "      <td>Tier 3</td>\n",
       "      <td>Medium</td>\n",
       "      <td>Supermarket Type3</td>\n",
       "      <td>0.034706</td>\n",
       "      <td>NaN</td>\n",
       "      <td>241.6828</td>\n",
       "      <td>4.0</td>\n",
       "    </tr>\n",
       "    <tr>\n",
       "      <th>8520</th>\n",
       "      <td>low fat</td>\n",
       "      <td>DRE13</td>\n",
       "      <td>Soft Drinks</td>\n",
       "      <td>1998</td>\n",
       "      <td>OUT027</td>\n",
       "      <td>Tier 3</td>\n",
       "      <td>Medium</td>\n",
       "      <td>Supermarket Type3</td>\n",
       "      <td>0.027571</td>\n",
       "      <td>NaN</td>\n",
       "      <td>86.6198</td>\n",
       "      <td>4.0</td>\n",
       "    </tr>\n",
       "    <tr>\n",
       "      <th>8521</th>\n",
       "      <td>reg</td>\n",
       "      <td>FDT50</td>\n",
       "      <td>Dairy</td>\n",
       "      <td>1998</td>\n",
       "      <td>OUT027</td>\n",
       "      <td>Tier 3</td>\n",
       "      <td>Medium</td>\n",
       "      <td>Supermarket Type3</td>\n",
       "      <td>0.107715</td>\n",
       "      <td>NaN</td>\n",
       "      <td>97.8752</td>\n",
       "      <td>4.0</td>\n",
       "    </tr>\n",
       "    <tr>\n",
       "      <th>8522</th>\n",
       "      <td>reg</td>\n",
       "      <td>FDM58</td>\n",
       "      <td>Snack Foods</td>\n",
       "      <td>1998</td>\n",
       "      <td>OUT027</td>\n",
       "      <td>Tier 3</td>\n",
       "      <td>Medium</td>\n",
       "      <td>Supermarket Type3</td>\n",
       "      <td>0.000000</td>\n",
       "      <td>NaN</td>\n",
       "      <td>112.2544</td>\n",
       "      <td>4.0</td>\n",
       "    </tr>\n",
       "  </tbody>\n",
       "</table>\n",
       "</div>"
      ],
      "text/plain": [
       "     Item Fat Content Item Identifier              Item Type  \\\n",
       "8513          Regular           DRY23            Soft Drinks   \n",
       "8514          low fat           FDA11           Baking Goods   \n",
       "8515          low fat           FDK38                 Canned   \n",
       "8516          low fat           FDO38                 Canned   \n",
       "8517          low fat           FDG32  Fruits and Vegetables   \n",
       "8518          low fat           NCT53     Health and Hygiene   \n",
       "8519          low fat           FDN09            Snack Foods   \n",
       "8520          low fat           DRE13            Soft Drinks   \n",
       "8521              reg           FDT50                  Dairy   \n",
       "8522              reg           FDM58            Snack Foods   \n",
       "\n",
       "      Outlet Establishment Year Outlet Identifier Outlet Location Type  \\\n",
       "8513                       1998            OUT027               Tier 3   \n",
       "8514                       1998            OUT027               Tier 3   \n",
       "8515                       1998            OUT027               Tier 3   \n",
       "8516                       1998            OUT027               Tier 3   \n",
       "8517                       1998            OUT027               Tier 3   \n",
       "8518                       1998            OUT027               Tier 3   \n",
       "8519                       1998            OUT027               Tier 3   \n",
       "8520                       1998            OUT027               Tier 3   \n",
       "8521                       1998            OUT027               Tier 3   \n",
       "8522                       1998            OUT027               Tier 3   \n",
       "\n",
       "     Outlet Size        Outlet Type  Item Visibility  Item Weight     Sales  \\\n",
       "8513      Medium  Supermarket Type3         0.108568          NaN   42.9112   \n",
       "8514      Medium  Supermarket Type3         0.043029          NaN   94.7436   \n",
       "8515      Medium  Supermarket Type3         0.053032          NaN  149.1734   \n",
       "8516      Medium  Supermarket Type3         0.072486          NaN   78.9986   \n",
       "8517      Medium  Supermarket Type3         0.175143          NaN  222.3772   \n",
       "8518      Medium  Supermarket Type3         0.000000          NaN  164.5526   \n",
       "8519      Medium  Supermarket Type3         0.034706          NaN  241.6828   \n",
       "8520      Medium  Supermarket Type3         0.027571          NaN   86.6198   \n",
       "8521      Medium  Supermarket Type3         0.107715          NaN   97.8752   \n",
       "8522      Medium  Supermarket Type3         0.000000          NaN  112.2544   \n",
       "\n",
       "      Rating  \n",
       "8513     4.0  \n",
       "8514     4.0  \n",
       "8515     4.0  \n",
       "8516     4.0  \n",
       "8517     4.0  \n",
       "8518     4.0  \n",
       "8519     4.0  \n",
       "8520     4.0  \n",
       "8521     4.0  \n",
       "8522     4.0  "
      ]
     },
     "execution_count": 7,
     "metadata": {},
     "output_type": "execute_result"
    }
   ],
   "source": [
    "df.tail(10)"
   ]
  },
  {
   "cell_type": "markdown",
   "id": "3e7b366f-449e-458d-ab15-d0f8a4cbb708",
   "metadata": {},
   "source": [
    "### **DATA INFO**"
   ]
  },
  {
   "cell_type": "code",
   "execution_count": 8,
   "id": "6cb81849-2e09-44b4-ab3c-3f410c0016bb",
   "metadata": {},
   "outputs": [
    {
     "name": "stdout",
     "output_type": "stream",
     "text": [
      "<class 'pandas.core.frame.DataFrame'>\n",
      "RangeIndex: 8523 entries, 0 to 8522\n",
      "Data columns (total 12 columns):\n",
      " #   Column                     Non-Null Count  Dtype  \n",
      "---  ------                     --------------  -----  \n",
      " 0   Item Fat Content           8523 non-null   object \n",
      " 1   Item Identifier            8523 non-null   object \n",
      " 2   Item Type                  8523 non-null   object \n",
      " 3   Outlet Establishment Year  8523 non-null   int64  \n",
      " 4   Outlet Identifier          8523 non-null   object \n",
      " 5   Outlet Location Type       8523 non-null   object \n",
      " 6   Outlet Size                8523 non-null   object \n",
      " 7   Outlet Type                8523 non-null   object \n",
      " 8   Item Visibility            8523 non-null   float64\n",
      " 9   Item Weight                7060 non-null   float64\n",
      " 10  Sales                      8523 non-null   float64\n",
      " 11  Rating                     8523 non-null   float64\n",
      "dtypes: float64(4), int64(1), object(7)\n",
      "memory usage: 799.2+ KB\n"
     ]
    }
   ],
   "source": [
    "df.info()"
   ]
  },
  {
   "cell_type": "markdown",
   "id": "30a5c317-79a3-4ca8-95ee-ab6848555066",
   "metadata": {},
   "source": [
    "### **DATA DESCRIBE**"
   ]
  },
  {
   "cell_type": "code",
   "execution_count": 9,
   "id": "e819dbe0-176a-4a0e-9ae4-f021cc860540",
   "metadata": {},
   "outputs": [
    {
     "data": {
      "text/html": [
       "<div>\n",
       "<style scoped>\n",
       "    .dataframe tbody tr th:only-of-type {\n",
       "        vertical-align: middle;\n",
       "    }\n",
       "\n",
       "    .dataframe tbody tr th {\n",
       "        vertical-align: top;\n",
       "    }\n",
       "\n",
       "    .dataframe thead th {\n",
       "        text-align: right;\n",
       "    }\n",
       "</style>\n",
       "<table border=\"1\" class=\"dataframe\">\n",
       "  <thead>\n",
       "    <tr style=\"text-align: right;\">\n",
       "      <th></th>\n",
       "      <th>Outlet Establishment Year</th>\n",
       "      <th>Item Visibility</th>\n",
       "      <th>Item Weight</th>\n",
       "      <th>Sales</th>\n",
       "      <th>Rating</th>\n",
       "    </tr>\n",
       "  </thead>\n",
       "  <tbody>\n",
       "    <tr>\n",
       "      <th>count</th>\n",
       "      <td>8523.000000</td>\n",
       "      <td>8523.000000</td>\n",
       "      <td>7060.000000</td>\n",
       "      <td>8523.000000</td>\n",
       "      <td>8523.000000</td>\n",
       "    </tr>\n",
       "    <tr>\n",
       "      <th>mean</th>\n",
       "      <td>2010.831867</td>\n",
       "      <td>0.066132</td>\n",
       "      <td>12.857645</td>\n",
       "      <td>140.992782</td>\n",
       "      <td>3.965857</td>\n",
       "    </tr>\n",
       "    <tr>\n",
       "      <th>std</th>\n",
       "      <td>8.371760</td>\n",
       "      <td>0.051598</td>\n",
       "      <td>4.643456</td>\n",
       "      <td>62.275067</td>\n",
       "      <td>0.605651</td>\n",
       "    </tr>\n",
       "    <tr>\n",
       "      <th>min</th>\n",
       "      <td>1998.000000</td>\n",
       "      <td>0.000000</td>\n",
       "      <td>4.555000</td>\n",
       "      <td>31.290000</td>\n",
       "      <td>1.000000</td>\n",
       "    </tr>\n",
       "    <tr>\n",
       "      <th>25%</th>\n",
       "      <td>2000.000000</td>\n",
       "      <td>0.026989</td>\n",
       "      <td>8.773750</td>\n",
       "      <td>93.826500</td>\n",
       "      <td>4.000000</td>\n",
       "    </tr>\n",
       "    <tr>\n",
       "      <th>50%</th>\n",
       "      <td>2012.000000</td>\n",
       "      <td>0.053931</td>\n",
       "      <td>12.600000</td>\n",
       "      <td>143.012800</td>\n",
       "      <td>4.000000</td>\n",
       "    </tr>\n",
       "    <tr>\n",
       "      <th>75%</th>\n",
       "      <td>2017.000000</td>\n",
       "      <td>0.094585</td>\n",
       "      <td>16.850000</td>\n",
       "      <td>185.643700</td>\n",
       "      <td>4.200000</td>\n",
       "    </tr>\n",
       "    <tr>\n",
       "      <th>max</th>\n",
       "      <td>2022.000000</td>\n",
       "      <td>0.328391</td>\n",
       "      <td>21.350000</td>\n",
       "      <td>266.888400</td>\n",
       "      <td>5.000000</td>\n",
       "    </tr>\n",
       "  </tbody>\n",
       "</table>\n",
       "</div>"
      ],
      "text/plain": [
       "       Outlet Establishment Year  Item Visibility  Item Weight        Sales  \\\n",
       "count                8523.000000      8523.000000  7060.000000  8523.000000   \n",
       "mean                 2010.831867         0.066132    12.857645   140.992782   \n",
       "std                     8.371760         0.051598     4.643456    62.275067   \n",
       "min                  1998.000000         0.000000     4.555000    31.290000   \n",
       "25%                  2000.000000         0.026989     8.773750    93.826500   \n",
       "50%                  2012.000000         0.053931    12.600000   143.012800   \n",
       "75%                  2017.000000         0.094585    16.850000   185.643700   \n",
       "max                  2022.000000         0.328391    21.350000   266.888400   \n",
       "\n",
       "            Rating  \n",
       "count  8523.000000  \n",
       "mean      3.965857  \n",
       "std       0.605651  \n",
       "min       1.000000  \n",
       "25%       4.000000  \n",
       "50%       4.000000  \n",
       "75%       4.200000  \n",
       "max       5.000000  "
      ]
     },
     "execution_count": 9,
     "metadata": {},
     "output_type": "execute_result"
    }
   ],
   "source": [
    "df.describe()"
   ]
  },
  {
   "cell_type": "markdown",
   "id": "a198c9ae-4ab4-4df7-83a6-ef97756e70c8",
   "metadata": {},
   "source": [
    "### **DATA SHAPE**"
   ]
  },
  {
   "cell_type": "code",
   "execution_count": 12,
   "id": "e4bb562b-a0a5-4a03-921e-81e25eb34828",
   "metadata": {},
   "outputs": [
    {
     "name": "stdout",
     "output_type": "stream",
     "text": [
      "Size of data: (8523, 12)\n"
     ]
    }
   ],
   "source": [
    "print(\"Size of data:\", df.shape)"
   ]
  },
  {
   "cell_type": "markdown",
   "id": "effddbb2-4aa0-41f4-b2e1-0cf5681ca378",
   "metadata": {},
   "source": [
    "### **column**"
   ]
  },
  {
   "cell_type": "code",
   "execution_count": 15,
   "id": "4c82ed5a-b722-4d84-b39b-655718bc0405",
   "metadata": {},
   "outputs": [
    {
     "data": {
      "text/plain": [
       "Index(['Item Fat Content', 'Item Identifier', 'Item Type',\n",
       "       'Outlet Establishment Year', 'Outlet Identifier',\n",
       "       'Outlet Location Type', 'Outlet Size', 'Outlet Type', 'Item Visibility',\n",
       "       'Item Weight', 'Sales', 'Rating'],\n",
       "      dtype='object')"
      ]
     },
     "execution_count": 15,
     "metadata": {},
     "output_type": "execute_result"
    }
   ],
   "source": [
    "df.columns"
   ]
  },
  {
   "cell_type": "markdown",
   "id": "c0612c76-303a-4ee4-84c2-c7b0072422fe",
   "metadata": {},
   "source": [
    "### **Find NULL**"
   ]
  },
  {
   "cell_type": "code",
   "execution_count": 16,
   "id": "da8fa989-da29-44d5-8866-f923c9e73899",
   "metadata": {},
   "outputs": [
    {
     "data": {
      "text/plain": [
       "Item Fat Content                0\n",
       "Item Identifier                 0\n",
       "Item Type                       0\n",
       "Outlet Establishment Year       0\n",
       "Outlet Identifier               0\n",
       "Outlet Location Type            0\n",
       "Outlet Size                     0\n",
       "Outlet Type                     0\n",
       "Item Visibility                 0\n",
       "Item Weight                  1463\n",
       "Sales                           0\n",
       "Rating                          0\n",
       "dtype: int64"
      ]
     },
     "execution_count": 16,
     "metadata": {},
     "output_type": "execute_result"
    }
   ],
   "source": [
    "df.isnull().sum()"
   ]
  },
  {
   "cell_type": "markdown",
   "id": "98e7e04e-963d-4fcf-adff-ad05a40d18a0",
   "metadata": {},
   "source": [
    "### **Drop NULL**"
   ]
  },
  {
   "cell_type": "code",
   "execution_count": 30,
   "id": "9abcb069-2b83-4775-9f43-79184353be29",
   "metadata": {},
   "outputs": [],
   "source": [
    "df.dropna(subset=[\"Item Weight\"],inplace= True)"
   ]
  },
  {
   "cell_type": "code",
   "execution_count": 31,
   "id": "78d12b48-b877-4ced-91d5-230ec3ef428d",
   "metadata": {},
   "outputs": [
    {
     "data": {
      "text/plain": [
       "Item Fat Content             0\n",
       "Item Identifier              0\n",
       "Item Type                    0\n",
       "Outlet Establishment Year    0\n",
       "Outlet Identifier            0\n",
       "Outlet Location Type         0\n",
       "Outlet Size                  0\n",
       "Outlet Type                  0\n",
       "Item Visibility              0\n",
       "Item Weight                  0\n",
       "Sales                        0\n",
       "Rating                       0\n",
       "dtype: int64"
      ]
     },
     "execution_count": 31,
     "metadata": {},
     "output_type": "execute_result"
    }
   ],
   "source": [
    "df.isnull().sum()"
   ]
  },
  {
   "cell_type": "markdown",
   "id": "703d9f24-2e44-4a2a-ad41-7cc566f5a79f",
   "metadata": {},
   "source": [
    "### **Data Type**"
   ]
  },
  {
   "cell_type": "code",
   "execution_count": 34,
   "id": "ff88494a-6534-487d-b510-d6b4829e0909",
   "metadata": {},
   "outputs": [
    {
     "data": {
      "text/plain": [
       "Item Fat Content              object\n",
       "Item Identifier               object\n",
       "Item Type                     object\n",
       "Outlet Establishment Year      int64\n",
       "Outlet Identifier             object\n",
       "Outlet Location Type          object\n",
       "Outlet Size                   object\n",
       "Outlet Type                   object\n",
       "Item Visibility              float64\n",
       "Item Weight                  float64\n",
       "Sales                        float64\n",
       "Rating                       float64\n",
       "dtype: object"
      ]
     },
     "execution_count": 34,
     "metadata": {},
     "output_type": "execute_result"
    }
   ],
   "source": [
    "df.dtypes"
   ]
  },
  {
   "cell_type": "markdown",
   "id": "1e5cb6ce-6de6-42c4-b267-f41baa821fea",
   "metadata": {},
   "source": [
    "### **Duplicate**"
   ]
  },
  {
   "cell_type": "code",
   "execution_count": 38,
   "id": "3fa051be-49ad-48ec-872e-bdacdaca3b44",
   "metadata": {},
   "outputs": [
    {
     "name": "stdout",
     "output_type": "stream",
     "text": [
      "0       False\n",
      "1       False\n",
      "2       False\n",
      "3       False\n",
      "4       False\n",
      "        ...  \n",
      "8241    False\n",
      "8242    False\n",
      "8243    False\n",
      "8244    False\n",
      "8245    False\n",
      "Length: 7060, dtype: bool\n"
     ]
    }
   ],
   "source": [
    "print(df.duplicated())\n"
   ]
  },
  {
   "cell_type": "markdown",
   "id": "ffec09c0-0442-4939-abfc-4e26e3f8053e",
   "metadata": {},
   "source": [
    "### **Unique**"
   ]
  },
  {
   "cell_type": "code",
   "execution_count": 43,
   "id": "1a8867e9-14ff-4fac-9e01-63ab49fa7d73",
   "metadata": {},
   "outputs": [
    {
     "name": "stdout",
     "output_type": "stream",
     "text": [
      "['Regular' 'Low Fat' 'low fat' 'LF' 'reg']\n"
     ]
    }
   ],
   "source": [
    "print(df['Item Fat Content'].unique())\n"
   ]
  },
  {
   "cell_type": "code",
   "execution_count": 45,
   "id": "2f0a9011-cfd5-4ca1-9314-3e12ff64843f",
   "metadata": {},
   "outputs": [
    {
     "data": {
      "text/plain": [
       "5"
      ]
     },
     "execution_count": 45,
     "metadata": {},
     "output_type": "execute_result"
    }
   ],
   "source": [
    "df['Item Fat Content'].nunique()"
   ]
  },
  {
   "cell_type": "markdown",
   "id": "efac9b90-72cf-4291-8454-14e5cd7fcbe0",
   "metadata": {},
   "source": [
    "### **Replace**"
   ]
  },
  {
   "cell_type": "code",
   "execution_count": 48,
   "id": "d48c3e04-2728-49b6-ae27-01b4db032e4f",
   "metadata": {},
   "outputs": [],
   "source": [
    "df['Item Fat Content'] = df['Item Fat Content'].replace({'LF': 'Low Fat',\n",
    "                                                         'low fat': 'Low Fat',\n",
    "                                                         'reg':'Regular'\n",
    "                                                        })"
   ]
  },
  {
   "cell_type": "code",
   "execution_count": 49,
   "id": "a9138e10-4ed8-4e87-947c-cb515a80da12",
   "metadata": {},
   "outputs": [
    {
     "name": "stdout",
     "output_type": "stream",
     "text": [
      "['Regular' 'Low Fat']\n"
     ]
    }
   ],
   "source": [
    "print(df['Item Fat Content'].unique())"
   ]
  },
  {
   "cell_type": "markdown",
   "id": "c01c77be-f294-47ef-b4c1-8e8cb37207bf",
   "metadata": {},
   "source": [
    "### **KPI**"
   ]
  },
  {
   "cell_type": "code",
   "execution_count": 58,
   "id": "63ef424c-dbf7-4cf9-ba09-e83a972d74bb",
   "metadata": {},
   "outputs": [
    {
     "name": "stdout",
     "output_type": "stream",
     "text": [
      "Total Sales: $997,159.2\n",
      "Average Sales: 141.2\n",
      "Number of item Sold: 7,060.0\n",
      "Average Rating: 4.0\n"
     ]
    }
   ],
   "source": [
    "#Total Sales\n",
    "total_sales = df['Sales'].sum()\n",
    "\n",
    "#Average Sales\n",
    "avg_sales = df['Sales'].mean()\n",
    "\n",
    "#No of Items Sold\n",
    "no_of_items_sold = df['Sales'].count()\n",
    "\n",
    "#Average Rating \n",
    "avg_rating = df['Rating'].mean()\n",
    "\n",
    "#Display\n",
    "\n",
    "print(f\"Total Sales: ${total_sales:,.1f}\")\n",
    "print(f\"Average Sales: {avg_sales:,.1f}\")\n",
    "print(f\"Number of item Sold: {no_of_items_sold:,.1f}\")\n",
    "print(f\"Average Rating: {avg_rating:,.1f}\")"
   ]
  },
  {
   "cell_type": "markdown",
   "id": "1330ed55-1144-45cb-affd-02045f950d11",
   "metadata": {},
   "source": [
    "### **Chart**"
   ]
  },
  {
   "cell_type": "markdown",
   "id": "deb397a4-4261-4db1-9d29-2ca0bc1d0a5f",
   "metadata": {},
   "source": [
    "#### *Total Sales by Fat Content*"
   ]
  },
  {
   "cell_type": "code",
   "execution_count": 75,
   "id": "456dc703-7e51-43df-a9ed-75dabe112cb1",
   "metadata": {},
   "outputs": [
    {
     "data": {
      "image/png": "[encoded data removed]",
      "text/plain": [
       "<Figure size 640x480 with 1 Axes>"
      ]
     },
     "metadata": {},
     "output_type": "display_data"
    }
   ],
   "source": [
    "Sales_by_fat = df.groupby('Item Fat Content')['Sales'].sum()\n",
    "plt.pie(Sales_by_fat,labels= Sales_by_fat.index,\n",
    "                  autopct = '%.1f%%',\n",
    "                  startangle = 90)\n",
    "plt.title('Sales By Fat Content')\n",
    "plt.axis('equal')\n",
    "plt.show()"
   ]
  },
  {
   "cell_type": "markdown",
   "id": "5c017d24-8536-4c42-8c8a-f787e3ceea02",
   "metadata": {},
   "source": [
    "#### **Total Sales By Item Type**"
   ]
  },
  {
   "cell_type": "code",
   "execution_count": 62,
   "id": "04eb6e2f-20a9-4994-8998-e44344bd6f4f",
   "metadata": {},
   "outputs": [
    {
     "data": {
      "image/png": "[encoded data removed]",
      "text/plain": [
       "<Figure size 1000x600 with 1 Axes>"
      ]
     },
     "metadata": {},
     "output_type": "display_data"
    }
   ],
   "source": [
    "Sales_by_type = df.groupby('Item Type')['Sales'].sum().sort_values(ascending = False)\n",
    "\n",
    "plt.figure(figsize = (10,6))\n",
    "bars = plt.bar(Sales_by_type.index, Sales_by_type.values)\n",
    "plt.xticks(rotation = -90)\n",
    "plt.xlabel('Item Type')\n",
    "plt.ylabel('Total Sales')\n",
    "plt.title('Total sales by item type')\n",
    "\n",
    "for bar in bars:\n",
    "    plt.text(bar.get_x() + bar.get_width() /2, bar.get_height(),\n",
    "             f'{bar.get_height():,.0f}', ha='center', va= 'bottom', fontsize = 8)\n",
    "plt.tight_layout()\n",
    "plt.show()"
   ]
  },
  {
   "cell_type": "markdown",
   "id": "4810a860-9c8b-4133-bf79-c0c8ff7b2851",
   "metadata": {},
   "source": [
    "### **fat  content by outlet for total sales**"
   ]
  },
  {
   "cell_type": "code",
   "execution_count": 67,
   "id": "59255437-d993-4783-a547-faf315f79b17",
   "metadata": {},
   "outputs": [
    {
     "data": {
      "image/png": "[encoded data removed]",
      "text/plain": [
       "<Figure size 800x500 with 1 Axes>"
      ]
     },
     "metadata": {},
     "output_type": "display_data"
    }
   ],
   "source": [
    "grouped = df.groupby(['Outlet Location Type', 'Item Fat Content'])['Sales'].sum().unstack()\n",
    "grouped = grouped[['Regular', 'Low Fat']]\n",
    "\n",
    "ax= grouped.plot(kind='bar', figsize=(8,5), title ='Outlet tier by item fat content')\n",
    "plt.xlabel('Outlet Location Tier')\n",
    "plt.ylabel('Total Sales')\n",
    "plt.legend(title='Item Fat Content')\n",
    "plt.tight_layout()\n",
    "plt.show()"
   ]
  },
  {
   "cell_type": "markdown",
   "id": "adafa994-67c9-47ee-a8b2-8487aa40acd0",
   "metadata": {},
   "source": [
    "#### **Total Sales by Outlet Establishment** "
   ]
  },
  {
   "cell_type": "code",
   "execution_count": 77,
   "id": "a66accf3-798c-44c4-bf63-a62ce9e4d50b",
   "metadata": {},
   "outputs": [
    {
     "data": {
      "image/png": "[encoded data removed]",
      "text/plain": [
       "<Figure size 900x500 with 1 Axes>"
      ]
     },
     "metadata": {},
     "output_type": "display_data"
    }
   ],
   "source": [
    "Sales_by_year = df.groupby('Outlet Establishment Year')['Sales'].sum().sort_index()\n",
    "\n",
    "plt.figure(figsize =(9,5))\n",
    "plt.plot(Sales_by_year.index,Sales_by_year.values, marker='o', mfc='y', mec ='g', linestyle='-')\n",
    "plt.xlabel('Outlet Establishment Year')\n",
    "plt.ylabel('Total Sales')\n",
    "plt.title('Outlet Establishment')\n",
    "\n",
    "for x, y in zip(Sales_by_year.index, Sales_by_year.values):\n",
    "    plt.text(x, y, f'{y:,.0f}', ha='center', va='bottom', fontsize= 8)\n",
    "plt.tight_layout()\n",
    "plt.show()"
   ]
  },
  {
   "cell_type": "markdown",
   "id": "86062f95-fc73-482d-80c3-f366c9f13981",
   "metadata": {},
   "source": [
    "#### **SALES BY OUTLET SIZE**"
   ]
  },
  {
   "cell_type": "code",
   "execution_count": 72,
   "id": "fd4a80f1-8f48-48b6-859c-4b701f9f77a8",
   "metadata": {},
   "outputs": [
    {
     "data": {
      "image/png": "[encoded data removed]",
      "text/plain": [
       "<Figure size 400x400 with 1 Axes>"
      ]
     },
     "metadata": {},
     "output_type": "display_data"
    }
   ],
   "source": [
    "Sales_by_Size = df.groupby('Outlet Size')['Sales'].sum()\n",
    "\n",
    "plt.figure(figsize=(4,4))\n",
    "plt.pie(Sales_by_Size, labels=Sales_by_Size.index, autopct='%1.1f%%', startangle=90)\n",
    "plt.title('Outlet Size')\n",
    "plt.tight_layout()\n",
    "plt.show()"
   ]
  },
  {
   "cell_type": "markdown",
   "id": "5eedd5b5-fb15-40e0-a594-084e71308c8e",
   "metadata": {},
   "source": [
    "#### **Sales by Outlet Location**"
   ]
  },
  {
   "cell_type": "code",
   "execution_count": 73,
   "id": "a31e77bc-133e-440c-8392-694a67e2219c",
   "metadata": {},
   "outputs": [
    {
     "data": {
      "image/png": "[encoded data removed]",
      "text/plain": [
       "<Figure size 800x300 with 1 Axes>"
      ]
     },
     "metadata": {},
     "output_type": "display_data"
    }
   ],
   "source": [
    "Sales_by_location = df.groupby('Outlet Location Type')['Sales'].sum().reset_index()\n",
    "Sales_by_location = Sales_by_location.sort_values('Sales', ascending = False)\n",
    "\n",
    "plt.figure(figsize=(8,3))\n",
    "ax = sns.barplot(x='Sales', y='Outlet Location Type' , data=Sales_by_location)\n",
    "plt.title('Total Sales by Outlet Location Type')\n",
    "plt.xlabel('total Sales')\n",
    "plt.ylabel('Outlet Location Type')\n",
    "\n",
    "plt.tight_layout()\n",
    "plt.show()"
   ]
  },
  {
   "cell_type": "code",
   "execution_count": null,
   "id": "a7feb8eb-895e-4325-8577-6a066bc54cbe",
   "metadata": {},
   "outputs": [],
   "source": []
  }
 ],
 "metadata": {
  "kernelspec": {
   "display_name": "Python 3 (ipykernel)",
   "language": "python",
   "name": "python3"
  },
  "language_info": {
   "codemirror_mode": {
    "name": "ipython",
    "version": 3
   },
   "file_extension": ".py",
   "mimetype": "text/x-python",
   "name": "python",
   "nbconvert_exporter": "python",
   "pygments_lexer": "ipython3",
   "version": "3.12.7"
  }
 },
 "nbformat": 4,
 "nbformat_minor": 5
}
